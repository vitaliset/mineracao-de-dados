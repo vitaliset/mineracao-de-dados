{
 "cells": [
  {
   "cell_type": "code",
   "execution_count": 1,
   "metadata": {},
   "outputs": [
    {
     "name": "stdout",
     "output_type": "stream",
     "text": [
      "sklearn versão: 0.23.2\n",
      "numpy versão: 1.16.2\n",
      "pandas versão: 1.0.5\n",
      "matplotlib versão: 3.0.3\n"
     ]
    }
   ],
   "source": [
    "import pandas as pd\n",
    "import numpy as np\n",
    "import matplotlib.pyplot as plt\n",
    "import sklearn as sk\n",
    "import matplotlib\n",
    "import seaborn as sns\n",
    "\n",
    "print(\"sklearn versão:\", sk.__version__)\n",
    "print(\"numpy versão:\", np.__version__)\n",
    "print(\"pandas versão:\", pd.__version__)\n",
    "print(\"matplotlib versão:\", matplotlib.__version__)"
   ]
  },
  {
   "cell_type": "code",
   "execution_count": 2,
   "metadata": {},
   "outputs": [],
   "source": [
    "pd.set_option('display.max_columns',None)"
   ]
  },
  {
   "cell_type": "code",
   "execution_count": 3,
   "metadata": {},
   "outputs": [],
   "source": [
    "df_original = pd.read_csv(\"CaDa_NaoLigamosParaAG_FullData.csv\")\n",
    "df = df_original.copy()"
   ]
  },
  {
   "cell_type": "code",
   "execution_count": 4,
   "metadata": {},
   "outputs": [],
   "source": [
    "# boolean (true,false) to (1,0)\n",
    "\n",
    "bool_col = ['gesticula_negociante', 'automatico_primeiro_carro', 'flex_primeiro_carro', \n",
    " 'automatico_segundo_carro', 'flex_segundo_carro',\n",
    " 'automatico_carro_comprado', 'flex_carro_comprado', 'tem_criancas']\n",
    "\n",
    "for col in bool_col:\n",
    "    df[col] = df.apply(lambda x: float(x[col]), axis=1)"
   ]
  },
  {
   "cell_type": "code",
   "execution_count": 5,
   "metadata": {},
   "outputs": [],
   "source": [
    "# criando flag se o cliente olhou 2 carros\n",
    "\n",
    "df['olhou_segundo'] = df.apply(lambda x: int(x.notna()['valor_segundo_carro']), axis=1)\n",
    "\n",
    "# criando flag se o cliente comprou ou não naquela visita\n",
    "\n",
    "df['comprou'] = df.apply(lambda x: int(x.notna()['valor_carro_comprado']), axis=1)"
   ]
  },
  {
   "cell_type": "code",
   "execution_count": 6,
   "metadata": {},
   "outputs": [],
   "source": [
    "ordinal_col = ['idade_negociante', 'vestimenta_negociante']\n",
    "ordinal_dic = [{'[18, 25)': 0, '[25, 40)': 1, '[40, 100)': 2}, \n",
    "               {'Mal-arrumado': 0, 'Normal': 1, 'Bem-arrumado': 2}]\n",
    "\n",
    "for i, col in enumerate(ordinal_col):\n",
    "    df[col] = df.apply(lambda x: ordinal_dic[i][(x[col])], axis=1)"
   ]
  },
  {
   "cell_type": "code",
   "execution_count": 7,
   "metadata": {},
   "outputs": [],
   "source": [
    "indices_comprou = df[~df['valor_carro_comprado'].isna()].index\n",
    "indices_primeiro = df.query(\"valor_primeiro_carro == valor_carro_comprado and ano_primeiro_carro == ano_carro_comprado and cor_primeiro_carro == cor_carro_comprado and tipo_primeiro_carro == tipo_carro_comprado and km_primeiro_carro == km_carro_comprado and automatico_primeiro_carro == automatico_carro_comprado and flex_primeiro_carro == flex_carro_comprado and marca_primeiro_carro == marca_carro_comprado\").index\n",
    "indices_segundo = df.query(\"valor_segundo_carro == valor_carro_comprado and ano_segundo_carro == ano_carro_comprado and cor_segundo_carro == cor_carro_comprado and tipo_segundo_carro == tipo_carro_comprado and km_segundo_carro == km_carro_comprado and automatico_segundo_carro == automatico_carro_comprado and flex_segundo_carro == flex_carro_comprado and marca_segundo_carro == marca_carro_comprado\").index"
   ]
  },
  {
   "cell_type": "code",
   "execution_count": 8,
   "metadata": {},
   "outputs": [],
   "source": [
    "df.loc[indices_comprou, 'comprou_qual_carro'] = 3\n",
    "df.loc[indices_primeiro, 'comprou_qual_carro'] = 1\n",
    "df.loc[indices_segundo, 'comprou_qual_carro'] = 2"
   ]
  },
  {
   "cell_type": "code",
   "execution_count": 9,
   "metadata": {},
   "outputs": [],
   "source": [
    "variaveis_cliente = ['loja', 'vestimenta_negociante', 'idade_negociante', 'tem_criancas',\n",
    "                    'cor_cabelo_negociante', 'sexo_negociante', 'gesticula_negociante',\n",
    "                    'periodo_visita'] # tiramos o nro_pessoas"
   ]
  },
  {
   "cell_type": "code",
   "execution_count": 10,
   "metadata": {},
   "outputs": [],
   "source": [
    "primeiro_carro = ['valor_primeiro_carro', 'ano_primeiro_carro', 'cor_primeiro_carro',\n",
    "                  'tipo_primeiro_carro', 'km_primeiro_carro', 'automatico_primeiro_carro',\n",
    "                  'flex_primeiro_carro', 'marca_primeiro_carro' ]\n",
    "\n",
    "segundo_carro = ['valor_segundo_carro', 'ano_segundo_carro', 'cor_segundo_carro',\n",
    "                  'tipo_segundo_carro', 'km_segundo_carro', 'automatico_segundo_carro',\n",
    "                  'flex_segundo_carro', 'marca_segundo_carro' ] \n",
    "\n",
    "comprado_carro = ['valor_carro_comprado', 'ano_carro_comprado', 'cor_carro_comprado',\n",
    "                  'tipo_carro_comprado', 'km_carro_comprado', 'automatico_carro_comprado',\n",
    "                  'flex_carro_comprado', 'marca_carro_comprado' ]\n",
    "\n",
    "colunas_carro = ['valor', 'ano', 'cor', 'tipo', 'km', 'automatico', 'flex', 'marca']"
   ]
  },
  {
   "cell_type": "code",
   "execution_count": 11,
   "metadata": {},
   "outputs": [],
   "source": [
    "df_linhas = pd.concat( [(df.query('comprou_qual_carro == 1')[primeiro_carro+variaveis_cliente]).rename(columns = {antigo:novo for antigo, novo in zip(primeiro_carro,colunas_carro)})]\n",
    "                      + [(df.query('comprou_qual_carro == 2')[primeiro_carro+variaveis_cliente]).rename(columns = {antigo:novo for antigo, novo in zip(primeiro_carro,colunas_carro)})]\n",
    "                      + [(df.query('comprou_qual_carro == 2')[segundo_carro+variaveis_cliente]).rename(columns = {antigo:novo for antigo, novo in zip(segundo_carro,colunas_carro)})]\n",
    "                      + [(df.query('comprou_qual_carro == 3')[primeiro_carro+variaveis_cliente]).rename(columns = {antigo:novo for antigo, novo in zip(primeiro_carro,colunas_carro)})]\n",
    "                      + [(df.query('comprou_qual_carro == 3')[segundo_carro+variaveis_cliente]).rename(columns = {antigo:novo for antigo, novo in zip(segundo_carro,colunas_carro)})]\n",
    "                      + [(df.query('comprou_qual_carro == 3')[comprado_carro+variaveis_cliente]).rename(columns = {antigo:novo for antigo, novo in zip(comprado_carro,colunas_carro)})]\n",
    "                      + [(df.query('olhou_segundo == 0 and comprou == 0')[primeiro_carro+variaveis_cliente]).rename(columns = {antigo:novo for antigo, novo in zip(primeiro_carro,colunas_carro)})] \n",
    "                      + [(df.query('olhou_segundo == 1 and comprou == 0')[primeiro_carro+variaveis_cliente]).rename(columns = {antigo:novo for antigo, novo in zip(primeiro_carro,colunas_carro)})]\n",
    "                      + [(df.query('olhou_segundo == 1 and comprou == 0')[segundo_carro+variaveis_cliente]).rename(columns = {antigo:novo for antigo, novo in zip(segundo_carro,colunas_carro)})])\n",
    "\n",
    "df_linhas['y'] = [1]*df.query('comprou_qual_carro == 1').shape[0]+[0]*df.query('comprou_qual_carro == 2').shape[0]+[1]*df.query('comprou_qual_carro == 2').shape[0]+[0]*df.query('comprou_qual_carro == 3').shape[0]+[0]*df.query('comprou_qual_carro == 3').shape[0]+[1]*df.query('comprou_qual_carro == 3').shape[0]+[0]*df.query('olhou_segundo == 0 and comprou == 0').shape[0]+[0]*df.query('olhou_segundo == 1 and comprou == 0').shape[0]+[0]*df.query('olhou_segundo == 1 and comprou == 0').shape[0]\n",
    "df_linhas.sort_index(inplace=True)"
   ]
  },
  {
   "cell_type": "markdown",
   "metadata": {},
   "source": [
    "# Cada linha 1 carro, o cliente e se ele foi vendido ou não naquela visita :)"
   ]
  },
  {
   "cell_type": "code",
   "execution_count": 12,
   "metadata": {},
   "outputs": [
    {
     "name": "stdout",
     "output_type": "stream",
     "text": [
      "|    |    valor |   ano | cor      | tipo   |   km |   automatico |   flex | marca      |   loja |   vestimenta_negociante |   idade_negociante |   tem_criancas | cor_cabelo_negociante   | sexo_negociante   |   gesticula_negociante | periodo_visita   |   y |\n",
      "|---:|---------:|------:|:---------|:-------|-----:|-------------:|-------:|:-----------|-------:|------------------------:|-------------------:|---------------:|:------------------------|:------------------|-----------------------:|:-----------------|----:|\n",
      "|  0 | 101040   |  2006 | Branco   | SUV    |  117 |            0 |      0 | Ford       |      3 |                       2 |                  1 |              0 | Ruivo                   | M                 |                      0 | Vespertino       |   0 |\n",
      "|  0 |  47603.5 |  2016 | Vermelho | Hatch  |  140 |            1 |      1 | Renault    |      3 |                       2 |                  1 |              0 | Ruivo                   | M                 |                      0 | Vespertino       |   1 |\n",
      "|  1 |  45669.5 |  2010 | Preto    | SUV    |   90 |            0 |      1 | Ford       |      2 |                       2 |                  1 |              1 | Loiro                   | F                 |                      1 | Vespertino       |   0 |\n",
      "|  1 |  89652   |  2011 | Branco   | SUV    |  142 |            0 |      1 | Volkswagen |      2 |                       2 |                  1 |              1 | Loiro                   | F                 |                      1 | Vespertino       |   0 |\n",
      "|  1 |  82012.5 |  2010 | Preto    | SUV    |  133 |            1 |      1 | Renault    |      2 |                       2 |                  1 |              1 | Loiro                   | F                 |                      1 | Vespertino       |   1 |\n"
     ]
    }
   ],
   "source": [
    "print(df_linhas.head().to_markdown())"
   ]
  },
  {
   "cell_type": "code",
   "execution_count": 13,
   "metadata": {},
   "outputs": [],
   "source": [
    "df_linhas.reset_index(drop=True, inplace=True)"
   ]
  },
  {
   "cell_type": "code",
   "execution_count": 14,
   "metadata": {},
   "outputs": [],
   "source": [
    "nominais_col = ['cor', 'marca', 'tipo']\n",
    "df_final = df_linhas.merge(pd.get_dummies(df_linhas[nominais_col]),left_index=True, right_index=True).drop(columns=nominais_col)"
   ]
  },
  {
   "cell_type": "markdown",
   "metadata": {},
   "source": [
    "# Modelo classificação"
   ]
  },
  {
   "cell_type": "code",
   "execution_count": 15,
   "metadata": {},
   "outputs": [],
   "source": [
    "from sklearn.ensemble import RandomForestClassifier\n",
    "from sklearn.model_selection import train_test_split, GridSearchCV\n",
    "from sklearn.metrics import plot_roc_curve, precision_score, f1_score, fbeta_score, accuracy_score, recall_score, confusion_matrix, roc_auc_score"
   ]
  },
  {
   "cell_type": "code",
   "execution_count": 16,
   "metadata": {},
   "outputs": [],
   "source": [
    "vars_ordenadas = ['valor', 'ano', 'km', 'automatico', 'flex', 'cor_Azul', 'cor_Branco',\n",
    "                  'cor_Preto', 'cor_Vermelho', 'marca_Fiat', 'marca_Ford',\n",
    "                  'marca_Peugeot', 'marca_Renault', 'marca_Volkswagen', 'tipo_Hatch',\n",
    "                  'tipo_SUV', 'tipo_Sedan',\n",
    "                  'tem_criancas',  'vestimenta_negociante','idade_negociante', 'loja',]"
   ]
  },
  {
   "cell_type": "code",
   "execution_count": 17,
   "metadata": {},
   "outputs": [],
   "source": [
    "X = df_final[vars_ordenadas]\n",
    "y = df_final['y']\n",
    "\n",
    "X_train, X_test, y_train, y_test = train_test_split(X,y)"
   ]
  },
  {
   "cell_type": "code",
   "execution_count": 18,
   "metadata": {},
   "outputs": [
    {
     "data": {
      "text/plain": [
       "(17594, 21)"
      ]
     },
     "execution_count": 18,
     "metadata": {},
     "output_type": "execute_result"
    }
   ],
   "source": [
    "X.shape"
   ]
  },
  {
   "cell_type": "code",
   "execution_count": 19,
   "metadata": {},
   "outputs": [
    {
     "data": {
      "text/plain": [
       "0.14772081391383426"
      ]
     },
     "execution_count": 19,
     "metadata": {},
     "output_type": "execute_result"
    }
   ],
   "source": [
    "y.mean()"
   ]
  },
  {
   "cell_type": "code",
   "execution_count": 20,
   "metadata": {},
   "outputs": [
    {
     "data": {
      "text/plain": [
       "{'max_depth': array([ 3, 13, 23, 33, 43]),\n",
       " 'min_samples_leaf': array([ 10,  90, 170, 250]),\n",
       " 'n_estimators': array([100, 200, 300])}"
      ]
     },
     "execution_count": 20,
     "metadata": {},
     "output_type": "execute_result"
    }
   ],
   "source": [
    "param = {'max_depth': np.arange(3,50,10),\n",
    "        'min_samples_leaf': np.arange(10,300,80),\n",
    "         'n_estimators': np.arange(100,400,100)\n",
    "        }\n",
    "param"
   ]
  },
  {
   "cell_type": "code",
   "execution_count": 21,
   "metadata": {},
   "outputs": [],
   "source": [
    "grid_cv = GridSearchCV(estimator=RandomForestClassifier(), param_grid=param, scoring='roc_auc', cv= 5)"
   ]
  },
  {
   "cell_type": "code",
   "execution_count": 22,
   "metadata": {},
   "outputs": [
    {
     "data": {
      "text/plain": [
       "GridSearchCV(cv=5, estimator=RandomForestClassifier(),\n",
       "             param_grid={'max_depth': array([ 3, 13, 23, 33, 43]),\n",
       "                         'min_samples_leaf': array([ 10,  90, 170, 250]),\n",
       "                         'n_estimators': array([100, 200, 300])},\n",
       "             scoring='roc_auc')"
      ]
     },
     "execution_count": 22,
     "metadata": {},
     "output_type": "execute_result"
    }
   ],
   "source": [
    "grid_cv.fit(X_train,y_train)"
   ]
  },
  {
   "cell_type": "code",
   "execution_count": 23,
   "metadata": {},
   "outputs": [
    {
     "data": {
      "text/plain": [
       "RandomForestClassifier(class_weight='balanced_subsample', max_depth=13,\n",
       "                       min_samples_leaf=250)"
      ]
     },
     "execution_count": 23,
     "metadata": {},
     "output_type": "execute_result"
    }
   ],
   "source": [
    "rfc = RandomForestClassifier(**grid_cv.best_params_, class_weight='balanced_subsample')\n",
    "rfc.fit(X_train,y_train)"
   ]
  },
  {
   "cell_type": "code",
   "execution_count": 24,
   "metadata": {},
   "outputs": [
    {
     "name": "stdout",
     "output_type": "stream",
     "text": [
      "0.753353034780632\n",
      "0.43282801881860955\n",
      "0.6428571428571429\n",
      "0.3262411347517731\n",
      "0.7766028318349861\n"
     ]
    }
   ],
   "source": [
    "print(accuracy_score(y_test, rfc.predict(X_test)))\n",
    "print(f1_score(y_test, rfc.predict(X_test)))\n",
    "print(recall_score(y_test, rfc.predict(X_test)))\n",
    "print(precision_score(y_test,rfc.predict(X_test)))\n",
    "print(roc_auc_score(y_test, rfc.predict_proba(X_test)[:,1]))"
   ]
  },
  {
   "cell_type": "code",
   "execution_count": 25,
   "metadata": {},
   "outputs": [
    {
     "data": {
      "text/plain": [
       "array([[2900,  855],\n",
       "       [ 230,  414]], dtype=int64)"
      ]
     },
     "execution_count": 25,
     "metadata": {},
     "output_type": "execute_result"
    }
   ],
   "source": [
    "confusion_matrix(y_test,rfc.predict(X_test))"
   ]
  },
  {
   "cell_type": "code",
   "execution_count": 26,
   "metadata": {},
   "outputs": [
    {
     "data": {
      "image/png": "[encoded data removed]",
      "text/plain": [
       "<Figure size 432x288 with 1 Axes>"
      ]
     },
     "metadata": {
      "needs_background": "light"
     },
     "output_type": "display_data"
    }
   ],
   "source": [
    "plot_roc_curve(rfc, X_test, y_test) \n",
    "plt.plot([0,1],[0,1])\n",
    "plt.savefig(\"roc_auc.jpeg\", bbox_inches='tight')\n",
    "plt.show()"
   ]
  },
  {
   "cell_type": "markdown",
   "metadata": {},
   "source": [
    "# Utilizando o modelo no dia a dia"
   ]
  },
  {
   "cell_type": "markdown",
   "metadata": {},
   "source": [
    "Loja tal tem alguns carros no estoque. para ilustrar, vamos pegar 8 carros amostrados da nossa base de carros:"
   ]
  },
  {
   "cell_type": "code",
   "execution_count": 27,
   "metadata": {
    "scrolled": true
   },
   "outputs": [
    {
     "data": {
      "text/html": [
       "<div>\n",
       "<style scoped>\n",
       "    .dataframe tbody tr th:only-of-type {\n",
       "        vertical-align: middle;\n",
       "    }\n",
       "\n",
       "    .dataframe tbody tr th {\n",
       "        vertical-align: top;\n",
       "    }\n",
       "\n",
       "    .dataframe thead th {\n",
       "        text-align: right;\n",
       "    }\n",
       "</style>\n",
       "<table border=\"1\" class=\"dataframe\">\n",
       "  <thead>\n",
       "    <tr style=\"text-align: right;\">\n",
       "      <th></th>\n",
       "      <th>valor</th>\n",
       "      <th>ano</th>\n",
       "      <th>km</th>\n",
       "      <th>automatico</th>\n",
       "      <th>flex</th>\n",
       "      <th>cor_Azul</th>\n",
       "      <th>cor_Branco</th>\n",
       "      <th>cor_Preto</th>\n",
       "      <th>cor_Vermelho</th>\n",
       "      <th>marca_Fiat</th>\n",
       "      <th>marca_Ford</th>\n",
       "      <th>marca_Peugeot</th>\n",
       "      <th>marca_Renault</th>\n",
       "      <th>marca_Volkswagen</th>\n",
       "      <th>tipo_Hatch</th>\n",
       "      <th>tipo_SUV</th>\n",
       "      <th>tipo_Sedan</th>\n",
       "    </tr>\n",
       "  </thead>\n",
       "  <tbody>\n",
       "    <tr>\n",
       "      <th>0</th>\n",
       "      <td>88072.0</td>\n",
       "      <td>2011.0</td>\n",
       "      <td>63.0</td>\n",
       "      <td>1.0</td>\n",
       "      <td>0.0</td>\n",
       "      <td>0</td>\n",
       "      <td>1</td>\n",
       "      <td>0</td>\n",
       "      <td>0</td>\n",
       "      <td>0</td>\n",
       "      <td>0</td>\n",
       "      <td>0</td>\n",
       "      <td>0</td>\n",
       "      <td>1</td>\n",
       "      <td>1</td>\n",
       "      <td>0</td>\n",
       "      <td>0</td>\n",
       "    </tr>\n",
       "    <tr>\n",
       "      <th>1</th>\n",
       "      <td>45225.0</td>\n",
       "      <td>2014.0</td>\n",
       "      <td>81.0</td>\n",
       "      <td>0.0</td>\n",
       "      <td>1.0</td>\n",
       "      <td>0</td>\n",
       "      <td>0</td>\n",
       "      <td>1</td>\n",
       "      <td>0</td>\n",
       "      <td>1</td>\n",
       "      <td>0</td>\n",
       "      <td>0</td>\n",
       "      <td>0</td>\n",
       "      <td>0</td>\n",
       "      <td>1</td>\n",
       "      <td>0</td>\n",
       "      <td>0</td>\n",
       "    </tr>\n",
       "    <tr>\n",
       "      <th>2</th>\n",
       "      <td>44104.5</td>\n",
       "      <td>2005.0</td>\n",
       "      <td>163.0</td>\n",
       "      <td>1.0</td>\n",
       "      <td>1.0</td>\n",
       "      <td>0</td>\n",
       "      <td>0</td>\n",
       "      <td>1</td>\n",
       "      <td>0</td>\n",
       "      <td>0</td>\n",
       "      <td>0</td>\n",
       "      <td>0</td>\n",
       "      <td>1</td>\n",
       "      <td>0</td>\n",
       "      <td>0</td>\n",
       "      <td>1</td>\n",
       "      <td>0</td>\n",
       "    </tr>\n",
       "    <tr>\n",
       "      <th>3</th>\n",
       "      <td>102060.0</td>\n",
       "      <td>2014.0</td>\n",
       "      <td>61.0</td>\n",
       "      <td>0.0</td>\n",
       "      <td>1.0</td>\n",
       "      <td>0</td>\n",
       "      <td>1</td>\n",
       "      <td>0</td>\n",
       "      <td>0</td>\n",
       "      <td>0</td>\n",
       "      <td>0</td>\n",
       "      <td>1</td>\n",
       "      <td>0</td>\n",
       "      <td>0</td>\n",
       "      <td>0</td>\n",
       "      <td>1</td>\n",
       "      <td>0</td>\n",
       "    </tr>\n",
       "  </tbody>\n",
       "</table>\n",
       "</div>"
      ],
      "text/plain": [
       "      valor     ano     km  automatico  flex  cor_Azul  cor_Branco  cor_Preto  \\\n",
       "0   88072.0  2011.0   63.0         1.0   0.0         0           1          0   \n",
       "1   45225.0  2014.0   81.0         0.0   1.0         0           0          1   \n",
       "2   44104.5  2005.0  163.0         1.0   1.0         0           0          1   \n",
       "3  102060.0  2014.0   61.0         0.0   1.0         0           1          0   \n",
       "\n",
       "   cor_Vermelho  marca_Fiat  marca_Ford  marca_Peugeot  marca_Renault  \\\n",
       "0             0           0           0              0              0   \n",
       "1             0           1           0              0              0   \n",
       "2             0           0           0              0              1   \n",
       "3             0           0           0              1              0   \n",
       "\n",
       "   marca_Volkswagen  tipo_Hatch  tipo_SUV  tipo_Sedan  \n",
       "0                 1           1         0           0  \n",
       "1                 0           1         0           0  \n",
       "2                 0           0         1           0  \n",
       "3                 0           0         1           0  "
      ]
     },
     "execution_count": 27,
     "metadata": {},
     "output_type": "execute_result"
    }
   ],
   "source": [
    "producao = X.query(\"loja==2\").sample(4).drop(columns=['loja', 'tem_criancas',  'vestimenta_negociante', 'idade_negociante']).reset_index(drop=True)\n",
    "producao"
   ]
  },
  {
   "cell_type": "markdown",
   "metadata": {},
   "source": [
    "Chega um cliente em alguma das lojas. Ele tem alguns atributos que vimos anteriormente serem relevantes."
   ]
  },
  {
   "cell_type": "code",
   "execution_count": 28,
   "metadata": {},
   "outputs": [],
   "source": [
    "producao['loja'] = 2\n",
    "producao['tem_criancas'] = 1\n",
    "producao['vestimenta_negociante'] = 1\n",
    "producao['idade_negociante'] = 2"
   ]
  },
  {
   "cell_type": "markdown",
   "metadata": {},
   "source": [
    "Indice do carro que devemos oferecer para maximizar o *lucro esperado*"
   ]
  },
  {
   "cell_type": "code",
   "execution_count": 29,
   "metadata": {},
   "outputs": [
    {
     "data": {
      "text/plain": [
       "2"
      ]
     },
     "execution_count": 29,
     "metadata": {},
     "output_type": "execute_result"
    }
   ],
   "source": [
    "np.argmax(((rfc.predict_proba(producao)[:,1]))*np.log2(producao['valor']))"
   ]
  },
  {
   "cell_type": "markdown",
   "metadata": {},
   "source": [
    "Algumas métricas para analisar."
   ]
  },
  {
   "cell_type": "code",
   "execution_count": 30,
   "metadata": {},
   "outputs": [
    {
     "data": {
      "text/html": [
       "<div>\n",
       "<style scoped>\n",
       "    .dataframe tbody tr th:only-of-type {\n",
       "        vertical-align: middle;\n",
       "    }\n",
       "\n",
       "    .dataframe tbody tr th {\n",
       "        vertical-align: top;\n",
       "    }\n",
       "\n",
       "    .dataframe thead th {\n",
       "        text-align: right;\n",
       "    }\n",
       "</style>\n",
       "<table border=\"1\" class=\"dataframe\">\n",
       "  <thead>\n",
       "    <tr style=\"text-align: right;\">\n",
       "      <th></th>\n",
       "      <th>probabilidade</th>\n",
       "      <th>valor</th>\n",
       "      <th>score</th>\n",
       "    </tr>\n",
       "  </thead>\n",
       "  <tbody>\n",
       "    <tr>\n",
       "      <th>2</th>\n",
       "      <td>0.471202</td>\n",
       "      <td>44104.5</td>\n",
       "      <td>7.270006</td>\n",
       "    </tr>\n",
       "    <tr>\n",
       "      <th>3</th>\n",
       "      <td>0.431523</td>\n",
       "      <td>102060.0</td>\n",
       "      <td>7.180142</td>\n",
       "    </tr>\n",
       "    <tr>\n",
       "      <th>1</th>\n",
       "      <td>0.432469</td>\n",
       "      <td>45225.0</td>\n",
       "      <td>6.688067</td>\n",
       "    </tr>\n",
       "    <tr>\n",
       "      <th>0</th>\n",
       "      <td>0.404278</td>\n",
       "      <td>88072.0</td>\n",
       "      <td>6.640830</td>\n",
       "    </tr>\n",
       "  </tbody>\n",
       "</table>\n",
       "</div>"
      ],
      "text/plain": [
       "   probabilidade     valor     score\n",
       "2       0.471202   44104.5  7.270006\n",
       "3       0.431523  102060.0  7.180142\n",
       "1       0.432469   45225.0  6.688067\n",
       "0       0.404278   88072.0  6.640830"
      ]
     },
     "execution_count": 30,
     "metadata": {},
     "output_type": "execute_result"
    }
   ],
   "source": [
    "pd.DataFrame({'probabilidade': (rfc.predict_proba(producao)[:,1]), 'valor': producao.valor , 'score': (rfc.predict_proba(producao)[:,1])*np.log2(producao['valor'])}).sort_values(by='score', ascending=False)"
   ]
  },
  {
   "cell_type": "code",
   "execution_count": 31,
   "metadata": {
    "scrolled": true
   },
   "outputs": [
    {
     "data": {
      "text/plain": [
       "valor                    44104.5\n",
       "ano                       2005.0\n",
       "km                         163.0\n",
       "automatico                   1.0\n",
       "flex                         1.0\n",
       "cor_Azul                     0.0\n",
       "cor_Branco                   0.0\n",
       "cor_Preto                    1.0\n",
       "cor_Vermelho                 0.0\n",
       "marca_Fiat                   0.0\n",
       "marca_Ford                   0.0\n",
       "marca_Peugeot                0.0\n",
       "marca_Renault                1.0\n",
       "marca_Volkswagen             0.0\n",
       "tipo_Hatch                   0.0\n",
       "tipo_SUV                     1.0\n",
       "tipo_Sedan                   0.0\n",
       "loja                         2.0\n",
       "tem_criancas                 1.0\n",
       "vestimenta_negociante        1.0\n",
       "idade_negociante             2.0\n",
       "Name: 2, dtype: float64"
      ]
     },
     "execution_count": 31,
     "metadata": {},
     "output_type": "execute_result"
    }
   ],
   "source": [
    "producao.iloc[np.argmax(((rfc.predict_proba(producao)[:,1]))*np.log2(producao['valor']))]"
   ]
  },
  {
   "cell_type": "markdown",
   "metadata": {},
   "source": [
    "Como segunda opção damos o carro com maior probabilidade de ele comprar (excluindo o carro anterior):"
   ]
  },
  {
   "cell_type": "code",
   "execution_count": 32,
   "metadata": {},
   "outputs": [
    {
     "data": {
      "text/plain": [
       "2"
      ]
     },
     "execution_count": 32,
     "metadata": {},
     "output_type": "execute_result"
    }
   ],
   "source": [
    "np.argmax(((rfc.predict_proba(producao.append(producao.iloc[np.argmax(((rfc.predict_proba(producao)[:,1]))*np.log2(producao['valor']))]).drop_duplicates(keep=False))[:,1]))*(producao.append(producao.iloc[np.argmax(((rfc.predict_proba(producao)[:,1]))*np.log2(producao['valor']))]).drop_duplicates(keep=False)['valor']))"
   ]
  },
  {
   "cell_type": "code",
   "execution_count": 33,
   "metadata": {},
   "outputs": [
    {
     "data": {
      "text/plain": [
       "valor                    44104.5\n",
       "ano                       2005.0\n",
       "km                         163.0\n",
       "automatico                   1.0\n",
       "flex                         1.0\n",
       "cor_Azul                     0.0\n",
       "cor_Branco                   0.0\n",
       "cor_Preto                    1.0\n",
       "cor_Vermelho                 0.0\n",
       "marca_Fiat                   0.0\n",
       "marca_Ford                   0.0\n",
       "marca_Peugeot                0.0\n",
       "marca_Renault                1.0\n",
       "marca_Volkswagen             0.0\n",
       "tipo_Hatch                   0.0\n",
       "tipo_SUV                     1.0\n",
       "tipo_Sedan                   0.0\n",
       "loja                         2.0\n",
       "tem_criancas                 1.0\n",
       "vestimenta_negociante        1.0\n",
       "idade_negociante             2.0\n",
       "Name: 2, dtype: float64"
      ]
     },
     "execution_count": 33,
     "metadata": {},
     "output_type": "execute_result"
    }
   ],
   "source": [
    "producao.iloc[np.argmax(((rfc.predict_proba(producao.append(producao.iloc[np.argmax(((rfc.predict_proba(producao)[:,1]))*np.log2(producao['valor']))]).drop_duplicates(keep=False))[:,1]))*(producao.append(producao.iloc[np.argmax(((rfc.predict_proba(producao)[:,1]))*np.log2(producao['valor']))]).drop_duplicates(keep=False)['valor']))]"
   ]
  },
  {
   "cell_type": "markdown",
   "metadata": {},
   "source": [
    "# teste de sanidade"
   ]
  },
  {
   "cell_type": "code",
   "execution_count": 38,
   "metadata": {},
   "outputs": [],
   "source": [
    "prob_igual = 0\n",
    "valor_igual = 0\n",
    "tudo_igual = 0\n",
    "\n",
    "for i in range(1000):\n",
    "    loja = np.random.randint(1,5)\n",
    "    producao = X.query(\"loja==@loja\").sample(20).drop(columns=['loja', 'tem_criancas',  'vestimenta_negociante', 'idade_negociante']).reset_index(drop=True)\n",
    "    producao['loja'] = loja\n",
    "    producao['tem_criancas'] = np.random.randint(0,2)\n",
    "    producao['vestimenta_negociante'] = np.random.randint(0,3)\n",
    "    producao['idade_negociante'] = np.random.randint(0,3)\n",
    "\n",
    "    indice = np.argmax(((rfc.predict_proba(producao)[:,1]))*np.log2(producao['valor']))\n",
    "    indice_prob = np.argmax(((rfc.predict_proba(producao)[:,1])))\n",
    "    indice_valor = np.argmax(producao['valor'])\n",
    "\n",
    "    if indice == indice_prob and indice != indice_valor:\n",
    "        prob_igual+=1\n",
    "        \n",
    "    if indice != indice_prob and indice == indice_valor:\n",
    "        valor_igual+=1\n",
    "        \n",
    "    if indice == indice_prob and indice == indice_valor:\n",
    "        tudo_igual+=1"
   ]
  },
  {
   "cell_type": "code",
   "execution_count": 39,
   "metadata": {},
   "outputs": [
    {
     "data": {
      "text/plain": [
       "454"
      ]
     },
     "execution_count": 39,
     "metadata": {},
     "output_type": "execute_result"
    }
   ],
   "source": [
    "prob_igual"
   ]
  },
  {
   "cell_type": "code",
   "execution_count": 40,
   "metadata": {},
   "outputs": [
    {
     "data": {
      "text/plain": [
       "138"
      ]
     },
     "execution_count": 40,
     "metadata": {},
     "output_type": "execute_result"
    }
   ],
   "source": [
    "valor_igual"
   ]
  },
  {
   "cell_type": "code",
   "execution_count": 41,
   "metadata": {},
   "outputs": [
    {
     "data": {
      "text/plain": [
       "156"
      ]
     },
     "execution_count": 41,
     "metadata": {},
     "output_type": "execute_result"
    }
   ],
   "source": [
    "tudo_igual"
   ]
  },
  {
   "cell_type": "code",
   "execution_count": 42,
   "metadata": {},
   "outputs": [
    {
     "data": {
      "text/plain": [
       "252"
      ]
     },
     "execution_count": 42,
     "metadata": {},
     "output_type": "execute_result"
    }
   ],
   "source": [
    "1000 - prob_igual - valor_igual - tudo_igual"
   ]
  }
 ],
 "metadata": {
  "kernelspec": {
   "display_name": "Python 3",
   "language": "python",
   "name": "python3"
  },
  "language_info": {
   "codemirror_mode": {
    "name": "ipython",
    "version": 3
   },
   "file_extension": ".py",
   "mimetype": "text/x-python",
   "name": "python",
   "nbconvert_exporter": "python",
   "pygments_lexer": "ipython3",
   "version": "3.7.3"
  }
 },
 "nbformat": 4,
 "nbformat_minor": 2
}
