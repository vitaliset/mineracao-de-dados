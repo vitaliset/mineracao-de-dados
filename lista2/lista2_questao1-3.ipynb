{
 "cells": [
  {
   "cell_type": "markdown",
   "metadata": {},
   "source": [
    "# Exercício 1.3) k-medoídes"
   ]
  },
  {
   "cell_type": "code",
   "execution_count": 1,
   "metadata": {},
   "outputs": [],
   "source": [
    "import numpy as np\n",
    "import pandas as pd\n",
    "import matplotlib.pyplot as plt"
   ]
  },
  {
   "cell_type": "code",
   "execution_count": 2,
   "metadata": {},
   "outputs": [],
   "source": [
    "X = np.array(list(range(1,8)))\n",
    "\n",
    "matriz_distancias = np.array([[0.00, 0.21, 1.26, 1.18, 2.36, 2.09, 0.44],\n",
    "                              [0.21, 0.00, 1.44, 1.39, 2.56, 2.28, 0.42],\n",
    "                              [1.26, 1.44, 0.00, 0.64, 1.23, 0.89, 1.26],\n",
    "                              [1.18, 1.39, 0.64, 0.00, 1.23, 1.05, 1.40],\n",
    "                              [2.36, 2.56, 1.23, 1.23, 0.00, 0.39, 2.46],\n",
    "                              [2.09, 2.28, 0.89, 1.05, 0.39, 0.00, 2.14],\n",
    "                              [0.44, 0.42, 1.26, 1.40, 2.46, 2.14, 0.00]])"
   ]
  },
  {
   "cell_type": "markdown",
   "metadata": {},
   "source": [
    "Neste caso só precisamos da matriz de distâncias, não dos valores dos atributos."
   ]
  },
  {
   "cell_type": "code",
   "execution_count": 3,
   "metadata": {},
   "outputs": [],
   "source": [
    "# X = np.array([[1.11, 1.05],\n",
    "#               [0.94, 0.93],\n",
    "#               [2.36, 1.22],\n",
    "#               [2.04, 1.78],\n",
    "#               [3.23, 2.09],\n",
    "#               [3.08, 1.73],\n",
    "#               [1.25, 0.63]])\n",
    "\n",
    "# def distancia_euclidiana(x,y):\n",
    "#     return np.sqrt((x[0]-y[0])**2+(x[1]-y[1])**2)\n",
    "\n",
    "# matriz_distancias = np.array([[distancia_euclidiana(x,y) for x in X] for y in X])"
   ]
  },
  {
   "cell_type": "code",
   "execution_count": 4,
   "metadata": {},
   "outputs": [
    {
     "name": "stdout",
     "output_type": "stream",
     "text": [
      "indices dos medoides iniciais\n",
      "\n",
      "[2, 3]\n"
     ]
    }
   ],
   "source": [
    "indice_medoides = [2,3]\n",
    "print(\"indices dos medoides iniciais\\n\")\n",
    "print(indice_medoides)"
   ]
  },
  {
   "cell_type": "code",
   "execution_count": 5,
   "metadata": {},
   "outputs": [
    {
     "name": "stdout",
     "output_type": "stream",
     "text": [
      "iteração 1\n",
      "\n",
      "matriz de distâncias dos exemplos até os medoídes\n",
      "\n",
      "  index     0     1  mais_prox\n",
      "0     1  1.26  1.18          1\n",
      "1     2  1.44  1.39          1\n",
      "2     3  0.00  0.64          0\n",
      "3     4  0.64  0.00          1\n",
      "4     5  1.23  1.23          0\n",
      "5     6  0.89  1.05          0\n",
      "6     7  1.26  1.40          0\n",
      "\n",
      "indice dos medoides atualizados (indice que minimiza a soma das distâncias dos elementos daquele cluster até ele\n",
      "\n",
      "[2, 0]\n",
      "\n",
      "\n",
      "iteração 2\n",
      "\n",
      "matriz de distâncias dos exemplos até os medoídes\n",
      "\n",
      "  index     0     1  mais_prox\n",
      "0     1  1.26  0.00          1\n",
      "1     2  1.44  0.21          1\n",
      "2     3  0.00  1.26          0\n",
      "3     4  0.64  1.18          0\n",
      "4     5  1.23  2.36          0\n",
      "5     6  0.89  2.09          0\n",
      "6     7  1.26  0.44          1\n",
      "\n",
      "indice dos medoides atualizados (indice que minimiza a soma das distâncias dos elementos daquele cluster até ele\n",
      "\n",
      "[5, 1]\n",
      "\n",
      "\n",
      "iteração 3\n",
      "\n",
      "matriz de distâncias dos exemplos até os medoídes\n",
      "\n",
      "  index     0     1  mais_prox\n",
      "0     1  2.09  0.21          1\n",
      "1     2  2.28  0.00          1\n",
      "2     3  0.89  1.44          0\n",
      "3     4  1.05  1.39          0\n",
      "4     5  0.39  2.56          0\n",
      "5     6  0.00  2.28          0\n",
      "6     7  2.14  0.42          1\n",
      "\n",
      "indice dos medoides atualizados (indice que minimiza a soma das distâncias dos elementos daquele cluster até ele\n",
      "\n",
      "[5, 1]\n",
      "\n",
      "\n",
      "iteração 4\n",
      "\n",
      "matriz de distâncias dos exemplos até os medoídes\n",
      "\n",
      "  index     0     1  mais_prox\n",
      "0     1  2.09  0.21          1\n",
      "1     2  2.28  0.00          1\n",
      "2     3  0.89  1.44          0\n",
      "3     4  1.05  1.39          0\n",
      "4     5  0.39  2.56          0\n",
      "5     6  0.00  2.28          0\n",
      "6     7  2.14  0.42          1\n",
      "\n",
      "indice dos medoides atualizados (indice que minimiza a soma das distâncias dos elementos daquele cluster até ele\n",
      "\n",
      "[5, 1]\n",
      "\n",
      "\n",
      "iteração 5\n",
      "\n",
      "matriz de distâncias dos exemplos até os medoídes\n",
      "\n",
      "  index     0     1  mais_prox\n",
      "0     1  2.09  0.21          1\n",
      "1     2  2.28  0.00          1\n",
      "2     3  0.89  1.44          0\n",
      "3     4  1.05  1.39          0\n",
      "4     5  0.39  2.56          0\n",
      "5     6  0.00  2.28          0\n",
      "6     7  2.14  0.42          1\n",
      "\n",
      "indice dos medoides atualizados (indice que minimiza a soma das distâncias dos elementos daquele cluster até ele\n",
      "\n",
      "[5, 1]\n",
      "\n",
      "\n"
     ]
    }
   ],
   "source": [
    "for i in range(5):\n",
    "    print(\"iteração \"+str(i+1)+\"\\n\")\n",
    "\n",
    "    distancias_aos_medoides = {}\n",
    "    for j, x in enumerate(X):\n",
    "        distancias_aos_medoides[str(x)] = []\n",
    "        for ind_med in indice_medoides:\n",
    "            distancias_aos_medoides[str(x)].append(matriz_distancias[j,ind_med])\n",
    "\n",
    "    matriz = pd.DataFrame(distancias_aos_medoides).T\n",
    "    matriz['mais_prox'] = matriz.apply(np.argmin,axis=1)\n",
    "    matriz = matriz.reset_index()\n",
    "    print(\"matriz de distâncias dos exemplos até os medoídes\\n\")\n",
    "    print(matriz)\n",
    "\n",
    "    indice_medoides = []\n",
    "    for grupo in [0,1]:\n",
    "        lista_aux = list(matriz.query(\"mais_prox == @grupo\").index)\n",
    "        matriz_aux = matriz_distancias[([[item]*len(lista_aux) for item in lista_aux]), \n",
    "                                       len(lista_aux)*[lista_aux]]\n",
    "        indice_medoides.append(lista_aux[np.argmin(np.sum(matriz_aux,axis=0))])\n",
    "    print(\"\\nindice dos medoides atualizados (indice que minimiza a soma das distâncias dos elementos daquele cluster até ele\\n\")\n",
    "    print(indice_medoides)\n",
    "    print(\"\\n\")"
   ]
  },
  {
   "cell_type": "markdown",
   "metadata": {},
   "source": [
    "O algoritmo converge (os centroídes param de ser atualizados a partir da iteração 3. Ficamos com os grupos:\n",
    "\n",
    "Grupo 0 = {exemplos 3, 4, 5, 6}\n",
    "\n",
    "Grupo 1 = {exemplos 1, 2, 7}\n",
    "\n",
    "Visualmente:"
   ]
  },
  {
   "cell_type": "code",
   "execution_count": 6,
   "metadata": {},
   "outputs": [
    {
     "data": {
      "image/png": "[encoded data removed]",
      "text/plain": [
       "<Figure size 432x288 with 1 Axes>"
      ]
     },
     "metadata": {
      "needs_background": "light"
     },
     "output_type": "display_data"
    }
   ],
   "source": [
    "X = np.array([[1.11, 1.05],\n",
    "              [0.94, 0.93],\n",
    "              [2.36, 1.22],\n",
    "              [2.04, 1.78],\n",
    "              [3.23, 2.09],\n",
    "              [3.08, 1.73],\n",
    "              [1.25, 0.63]])\n",
    "\n",
    "plt.scatter(X[:,0],X[:,1], c = matriz['mais_prox'])\n",
    "plt.show()"
   ]
  }
 ],
 "metadata": {
  "kernelspec": {
   "display_name": "Python 3",
   "language": "python",
   "name": "python3"
  },
  "language_info": {
   "codemirror_mode": {
    "name": "ipython",
    "version": 3
   },
   "file_extension": ".py",
   "mimetype": "text/x-python",
   "name": "python",
   "nbconvert_exporter": "python",
   "pygments_lexer": "ipython3",
   "version": "3.7.3"
  }
 },
 "nbformat": 4,
 "nbformat_minor": 2
}
